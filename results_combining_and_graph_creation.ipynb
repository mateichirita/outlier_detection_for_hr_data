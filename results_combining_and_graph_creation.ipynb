{
 "cells": [
  {
   "attachments": {},
   "cell_type": "markdown",
   "metadata": {},
   "source": [
    "# OUTLIER DETECTION USING GMM AND SVDD"
   ]
  },
  {
   "cell_type": "code",
   "execution_count": null,
   "metadata": {},
   "outputs": [],
   "source": [
    "%load_ext autoreload\n",
    "%autoreload 2"
   ]
  },
  {
   "cell_type": "code",
   "execution_count": null,
   "metadata": {},
   "outputs": [],
   "source": [
    "import pandas as pd\n",
    "from pandas import DataFrame\n",
    "import numpy as np\n",
    "import matplotlib.pyplot as plt\n",
    "from data_processing.subject_selectors import *\n",
    "from data_processing.window_splitters import *\n",
    "from data_processing.train_test_spliters import *\n",
    "import pathlib\n",
    "from os.path import join, isfile\n",
    "from os import listdir\n",
    "import itertools\n",
    "from sklearn.mixture import GaussianMixture\n",
    "from sklearn.metrics import roc_auc_score\n",
    "from sklearn.decomposition import PCA\n",
    "from sklearn.model_selection import GridSearchCV\n",
    "from sklearn.preprocessing import StandardScaler\n",
    "import json\n",
    "import warnings "
   ]
  },
  {
   "cell_type": "code",
   "execution_count": null,
   "metadata": {},
   "outputs": [],
   "source": [
    "df = pd.read_csv(join(pathlib.Path().resolve(), \"results/SVM_new/result_1vsN_mfcc_3h.csv\"))\n"
   ]
  },
  {
   "cell_type": "code",
   "execution_count": null,
   "metadata": {},
   "outputs": [],
   "source": [
    "df.iloc[:, df.columns != \"params\"]"
   ]
  },
  {
   "cell_type": "code",
   "execution_count": null,
   "metadata": {},
   "outputs": [],
   "source": [
    "means = df.iloc[:, df.columns != \"params\"].mean(axis = 1)\n",
    "stds = df.iloc[:, df.columns != \"params\"].std(axis = 1)\n",
    "newdf = DataFrame()\n",
    "newdf[\"params\"] = df[\"params\"]\n",
    "newdf[\"mean\"] = means\n",
    "newdf[\"std\"] = stds\n",
    "newdf= newdf.sort_values(by = [\"mean\"], ascending = False)"
   ]
  },
  {
   "cell_type": "code",
   "execution_count": null,
   "metadata": {},
   "outputs": [],
   "source": [
    "newdf"
   ]
  },
  {
   "cell_type": "code",
   "execution_count": null,
   "metadata": {},
   "outputs": [],
   "source": [
    "# newdf.to_csv(\"results/SVM_new/final_1vsN_mfcc_3h.csv\", index=False)"
   ]
  },
  {
   "cell_type": "code",
   "execution_count": null,
   "metadata": {},
   "outputs": [],
   "source": [
    "newdf = pd.read_csv(join(pathlib.Path().resolve(), \"final_2v2_hour.csv\"))\n",
    "newdf= newdf.sort_values(by = [\"mean\"], ascending = False)\n",
    "newdf.to_csv(\"final_2v2_hour.csv\", index=False)"
   ]
  },
  {
   "cell_type": "code",
   "execution_count": null,
   "metadata": {},
   "outputs": [],
   "source": [
    "newdf = pd.read_csv(join(pathlib.Path().resolve(), \"results/GMM_new/final_1vsN_mfcc_3h.csv\"))\n",
    "newdf"
   ]
  },
  {
   "cell_type": "code",
   "execution_count": null,
   "metadata": {},
   "outputs": [],
   "source": [
    "s = \"\\\\hline \\n \\\n",
    "    {} & {} & {}  & {} & {} &{:.3f} & {:.3f} \\\\\\\\\""
   ]
  },
  {
   "cell_type": "code",
   "execution_count": null,
   "metadata": {},
   "outputs": [],
   "source": [
    "import json\n",
    "count = 0\n",
    "for i, row in newdf.iterrows():\n",
    "    pos = count + 1\n",
    "    # print (row[\"params\"].replace(\"'\", \"\\\"\"))\n",
    "\n",
    "    aux = json.loads(row[\"params\"].replace(\"'\", \"\\\"\").replace(\"[\", \"[\\\"\").replace(\"]\", \"\\\"]\"))\n",
    "    # print(aux[\"trans__pca_components\"])\n",
    "    print(s.format(str(pos) + \".\", aux[\"gmm__n_components\"], aux[\"trans__mfcc_components\"], aux[\"trans__pca_components\"], aux[\"trans__transformations\"], row[\"mean\"], row[\"std\"]))\n",
    "    count += 1\n",
    "    if count >= 20:\n",
    "        break"
   ]
  },
  {
   "cell_type": "code",
   "execution_count": null,
   "metadata": {},
   "outputs": [],
   "source": [
    "import json\n",
    "count = 0\n",
    "for i, row in newdf.iterrows():\n",
    "    pos = count + 1\n",
    "\n",
    "    aux = json.loads(row[\"params\"].replace(\"'\", \"\\\"\").replace(\"[\", \"[\\\"\").replace(\"]\", \"\\\"]\"))\n",
    "\n",
    "    if aux[\"gmm__n_components\"] == 4 and aux[\"trans__mfcc_components\"] == 5 and aux[\"trans__pca_components\"] == 0 and aux[\"trans__transformations\"] == [\"\"]:\n",
    "        print(row[\"mean\"])\n",
    "        print(aux[\"trans__transformations\"])\n",
    "        break\n"
   ]
  },
  {
   "cell_type": "code",
   "execution_count": null,
   "metadata": {},
   "outputs": [],
   "source": [
    "x1 = 0.9358780792879168\n",
    "x2 = 0.7459314715923672 (no MFCC)\n",
    "x3 = 0.890218025645096 (no stat)\n",
    "\n",
    "plt.figure(figsize=(3, 5))\n",
    "# plt.scatter([x1,x2,x3], [0,0,0] )\n",
    "plt.plot([0, 1], [x1, x2], color='r', marker='o', label = \"\")\n",
    "plt.plot([0, 1], [x1, x3], color='g', marker='o')\n",
    "plt.ylabel(\"mean AUC\")\n",
    "plt.xticks([])\n",
    "plt.show()"
   ]
  },
  {
   "cell_type": "code",
   "execution_count": null,
   "metadata": {},
   "outputs": [],
   "source": [
    "import json\n",
    "count = 0\n",
    "for i, row in newdf.iterrows():\n",
    "    pos = count + 1\n",
    "    aux = json.loads(row[\"params\"].replace(\"'\", \"\\\"\"))\n",
    "    print(s.format(str(pos) + \".\", aux[\"gmm__n_components\"], aux[\"pca__n_components\"], row[\"mean\"], row[\"std\"]))\n",
    "    count += 1\n",
    "    if count >= 20:\n",
    "        break"
   ]
  },
  {
   "cell_type": "code",
   "execution_count": null,
   "metadata": {},
   "outputs": [],
   "source": [
    "target_row = df[df[\"params\"] == \"{'gmm__n_components': 32, 'pca__n_components': 500}\"]\n",
    "target_row = target_row.to_numpy()[:, 1:].flatten().astype(float)\n",
    "print(type(target_row))\n",
    "print(target_row.shape)\n",
    "target_row = target_row[~np.isnan(target_row)]\n",
    "target_row"
   ]
  },
  {
   "cell_type": "code",
   "execution_count": null,
   "metadata": {},
   "outputs": [],
   "source": [
    "x_axis = np.arange(1, 101)\n",
    "\n",
    "counts, bins = np.histogram(target_row)\n",
    "print(counts)\n",
    "print(bins)\n",
    "plt.hist(target_row)\n",
    "plt.xlabel(\"AUC\")\n",
    "plt.ylabel(\"Number of combinations\")\n",
    "plt.show()"
   ]
  },
  {
   "cell_type": "code",
   "execution_count": null,
   "metadata": {},
   "outputs": [],
   "source": [
    "df1 = pd.read_csv(join(pathlib.Path().resolve(), \"results/GMM/final_1vsN_moreDist.csv\"))\n",
    "df2 = pd.read_csv(join(pathlib.Path().resolve(), \"results/GMM/final_1vsN_moreDist2.csv\"))\n",
    "df3 = pd.read_csv(join(pathlib.Path().resolve(), \"results/GMM/final_1vsN.csv\"))"
   ]
  },
  {
   "cell_type": "code",
   "execution_count": null,
   "metadata": {},
   "outputs": [],
   "source": [
    "aux = pd.concat([df1, df2, df3])\n",
    "aux = aux.sort_values(by = [\"mean\"], ascending = False)\n",
    "aux.to_csv(\"results/GMM/final_1vsN_all.csv\", index=False)"
   ]
  },
  {
   "cell_type": "code",
   "execution_count": null,
   "metadata": {},
   "outputs": [],
   "source": [
    "res1 = None\n",
    "res2 = None\n",
    "\n",
    "with open(join(pathlib.Path().resolve(), \"results/GMM_new/result_NvsN_mfcc_one_3h.json\"), \"r\") as f:\n",
    "    res1 = json.load(f)\n",
    "\n",
    "with open(join(pathlib.Path().resolve(), \"results/GMM_new/result_NvsN_mfcc_multiple_3h.json\"), \"r\") as f:\n",
    "    res2 = json.load(f)\n",
    "\n",
    "print(res1)\n",
    "print(res2)\n"
   ]
  },
  {
   "cell_type": "code",
   "execution_count": null,
   "metadata": {},
   "outputs": [],
   "source": [
    "x1 = []\n",
    "x2 = []\n",
    "for key in res1.keys():\n",
    "    x1.append([int(key), np.mean(res1[key]), np.std(res1[key])])\n",
    "\n",
    "for key in res2.keys():\n",
    "    x2.append([int(key), np.mean(res2[key]), np.std(res2[key])])\n",
    "\n",
    "x1 = np.array(x1)\n",
    "x2 = np.array(x2)\n",
    "print(x1[:, 2])\n",
    "print(x2[:, 2])\n",
    "# print(x2)"
   ]
  },
  {
   "cell_type": "code",
   "execution_count": null,
   "metadata": {},
   "outputs": [],
   "source": [
    "\n",
    "\n",
    "\n",
    "colors = [\"blue\", \"blue\", \"blue\", \"blue\", \"blue\", \"red\", \"red\", \"red\", \"red\", \"red\"]\n",
    "\n",
    "\n",
    "plt.errorbar(x1[:, 0], x1[:, 1], x1[:, 2], c = \"blue\", label = \"One model\", linestyle='None', marker=\"o\", capsize = 5)\n",
    "plt.errorbar(x2[:, 0], x2[:, 1], x2[:, 2], c = \"red\", label = \"Multiple models\", linestyle='None', marker=\"o\", capsize=5)\n",
    "\n",
    "plt.xlabel(\"Number of authorised subjects\")\n",
    "plt.xticks([2, 3, 4, 5, 6, 7, 8, 9, 10, 11, 12])\n",
    "plt.ylabel(\"AUC\")\n",
    "plt.legend()\n",
    "plt.show()"
   ]
  },
  {
   "cell_type": "code",
   "execution_count": null,
   "metadata": {},
   "outputs": [],
   "source": [
    "x = np.array([1, 2, 3, 4, 5])\n",
    "y = np.power(x, 2) # Effectively y = x**2\n",
    "e = np.array([1.5, 2.6, 3.7, 4.6, 5.5])\n",
    "\n",
    "plt.errorbar(x, y, e, linestyle='None', marker='^')\n",
    "\n",
    "plt.show()"
   ]
  },
  {
   "cell_type": "code",
   "execution_count": null,
   "metadata": {},
   "outputs": [],
   "source": []
  }
 ],
 "metadata": {
  "kernelspec": {
   "display_name": "rp",
   "language": "python",
   "name": "python3"
  },
  "language_info": {
   "codemirror_mode": {
    "name": "ipython",
    "version": 3
   },
   "file_extension": ".py",
   "mimetype": "text/x-python",
   "name": "python",
   "nbconvert_exporter": "python",
   "pygments_lexer": "ipython3",
   "version": "3.11.3"
  },
  "orig_nbformat": 4
 },
 "nbformat": 4,
 "nbformat_minor": 2
}
