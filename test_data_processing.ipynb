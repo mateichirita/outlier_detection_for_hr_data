{
 "cells": [
  {
   "cell_type": "code",
   "execution_count": null,
   "metadata": {},
   "outputs": [],
   "source": [
    "%load_ext autoreload\n",
    "%autoreload 2"
   ]
  },
  {
   "cell_type": "code",
   "execution_count": null,
   "metadata": {},
   "outputs": [],
   "source": [
    "import pandas as pd\n",
    "from pandas import DataFrame\n",
    "import numpy as np\n",
    "import matplotlib.pyplot as plt\n",
    "from data_processing.subject_selectors import *\n",
    "from data_processing.window_splitters import *\n",
    "from data_processing.train_test_spliters import *\n",
    "import pathlib\n",
    "from os.path import join, isfile\n",
    "from os import listdir\n",
    "import itertools\n",
    "from sklearn.mixture import GaussianMixture\n",
    "from sklearn.metrics import roc_auc_score\n",
    "from sklearn.decomposition import PCA\n",
    "from sklearn.model_selection import GridSearchCV\n",
    "from sklearn.preprocessing import StandardScaler\n",
    "import math\n",
    "import warnings "
   ]
  },
  {
   "cell_type": "code",
   "execution_count": null,
   "metadata": {},
   "outputs": [],
   "source": [
    "subjectsPath = join(pathlib.Path().resolve(), \"data\\\\me_time_fused\\\\subjects\")\n",
    "allSubjects = [f[:-4] for f in listdir(subjectsPath) if isfile(join(subjectsPath, f))]\n",
    "allSubjects"
   ]
  },
  {
   "cell_type": "code",
   "execution_count": null,
   "metadata": {},
   "outputs": [],
   "source": [
    "x = [allSubjects[0]]\n",
    "\n",
    "subjects: dict[str, DataFrame] = SubjectSelectorList(subjectsPath, x, True, False).get_subjects()\n",
    "print(subjects)"
   ]
  },
  {
   "cell_type": "code",
   "execution_count": null,
   "metadata": {},
   "outputs": [],
   "source": [
    "def groupSplitter(data: DataFrame, window: int, stride: int) -> tuple[list[np.array], int]:\n",
    "    if window % stride != 0:\n",
    "        raise Exception(\"window not divisible by stride\")\n",
    "\n",
    "    first = pd.to_datetime(np.array(data[\"time\"])[0])\n",
    "    first = first.replace(hour = 0, minute = 0, second = 0, microsecond = 0)\n",
    "\n",
    "    currentOffset = 0\n",
    "    groups: list[np.array] = list()\n",
    "\n",
    "    windowInHours = window // 60\n",
    "    datapointsPerGroup = window * 60 // 5\n",
    "\n",
    "    while currentOffset < window:\n",
    "        offsetTime = data[\"time\"] - pd.Timedelta(minutes = currentOffset)\n",
    "        groups.append(np.array(offsetTime.dt.hour // windowInHours + (offsetTime - first).dt.days * (24 / windowInHours)).astype(int))\n",
    "        currentOffset += stride\n",
    "    return groups, datapointsPerGroup\n",
    "\n",
    "\n",
    "    # return np.array((data[\"time\"] - pd.Timedelta(minutes = stride)).dt.hour + (data[\"time\"] - first).dt.days * 24), 720\n",
    "\n",
    "def groupSplitterPerTimeframe(data: DataFrame) -> tuple[np.array, int]:\n",
    "    first = pd.to_datetime(np.array(data[\"time\"])[0])\n",
    "    first = first.replace(hour = 0, minute = 0, second = 0, microsecond = 0)\n",
    "    return np.array(data[\"time\"].dt.hour // 6 + (data[\"time\"] - first).dt.days * 4), 4320"
   ]
  },
  {
   "cell_type": "code",
   "execution_count": null,
   "metadata": {},
   "outputs": [],
   "source": [
    "for subject in allSubjects:\n",
    "    data = SubjectSelectorList(subjectsPath, [subject], True, False).get_subjects()\n",
    "    data = data[subject]\n",
    "    windows = WindowSplitterWithStride().split((subject, data), 60 * 3, 20)\n",
    "    windows.to_pickle(join(pathlib.Path().resolve(), \"data\\\\me_time_fused\\\\windowed_subjects\\\\3_hour_20_stride\", subject + \".pkl\"))\n",
    "    print(subject)"
   ]
  },
  {
   "cell_type": "code",
   "execution_count": null,
   "metadata": {},
   "outputs": [],
   "source": [
    "def function(x):\n",
    "    aux = x[\"time\"].max() - x[\"time\"].min()\n",
    "    if aux > pd.Timedelta(minutes = 60 * 6):\n",
    "        print(x[\"time\"].min())\n",
    "        print(x[\"time\"].max())\n",
    "        print()\n",
    "    return x[\"time\"].max() - x[\"time\"].min()\n",
    "\n",
    "for x in a:\n",
    "    unique, counts = np.unique(x, return_counts=True)\n",
    "    freq = np.asarray((unique, counts)).T\n",
    "    elemLess = freq[~(freq == 720)[:, 1]][:, 0]\n",
    "    filter = np.in1d(x, elemLess)\n",
    "    x[filter] = -1\n",
    "    group = data.groupby(x)\n",
    "    print(group.groups.keys())\n",
    "    break"
   ]
  },
  {
   "cell_type": "code",
   "execution_count": null,
   "metadata": {},
   "outputs": [],
   "source": [
    "print(\"[\", end = \"\")\n",
    "count = 0\n",
    "for x in allSubjects:\n",
    "    subjectData: DataFrame = pd.read_pickle(join(pathlib.Path().resolve(), \"data\\\\me_time_fused\\\\windowed_subjects\\\\1_hour_no_stride\", x + \".pkl\")) \n",
    "    if len(subjectData) > 1500:\n",
    "        print(\"\\\"\" + x + \"\\\",\", end = \"\")\n",
    "        count += 1\n",
    "print(\"]\")\n",
    "\n",
    "print(count)\n",
    "    "
   ]
  },
  {
   "cell_type": "code",
   "execution_count": null,
   "metadata": {},
   "outputs": [],
   "source": [
    "from models.transformers import *\n",
    "\n",
    "data = np.array([[1,2,3,4,5,6,7,8], [4,5,6,4,5,6,7,8], [4,5,6,4,5,6,7,8]]).astype(float)\n",
    "\n",
    "transformer = Transformer(transformations = [np.mean, np.median], pca_components = 2, mfcc_components = 2)\n",
    "\n",
    "transformer.fit(data).transform(data)"
   ]
  },
  {
   "cell_type": "code",
   "execution_count": null,
   "metadata": {},
   "outputs": [],
   "source": []
  }
 ],
 "metadata": {
  "kernelspec": {
   "display_name": "rp",
   "language": "python",
   "name": "python3"
  },
  "language_info": {
   "codemirror_mode": {
    "name": "ipython",
    "version": 3
   },
   "file_extension": ".py",
   "mimetype": "text/x-python",
   "name": "python",
   "nbconvert_exporter": "python",
   "pygments_lexer": "ipython3",
   "version": "3.11.3"
  },
  "orig_nbformat": 4
 },
 "nbformat": 4,
 "nbformat_minor": 2
}
