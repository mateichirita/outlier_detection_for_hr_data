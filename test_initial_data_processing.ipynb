{
 "cells": [
  {
   "cell_type": "code",
   "execution_count": null,
   "metadata": {},
   "outputs": [],
   "source": [
    "%load_ext autoreload\n",
    "%autoreload 2"
   ]
  },
  {
   "cell_type": "code",
   "execution_count": null,
   "metadata": {},
   "outputs": [],
   "source": [
    "%reload_ext autoreload"
   ]
  },
  {
   "cell_type": "code",
   "execution_count": null,
   "metadata": {},
   "outputs": [],
   "source": [
    "import pandas as pd\n",
    "from pandas import DataFrame\n",
    "from data_processing import HeartRateDataProcessor, StepProcessor\n",
    "import numpy as np\n",
    "import matplotlib.pyplot as plt"
   ]
  },
  {
   "cell_type": "code",
   "execution_count": null,
   "metadata": {},
   "outputs": [],
   "source": [
    "import pathlib\n",
    "from os.path import join\n",
    "# print(pathlib.Path().resolve())\n",
    "\n",
    "METIME_PATH = join(pathlib.Path().resolve(), \"data\\\\ME-TIME\")\n",
    "METIME_PATH"
   ]
  },
  {
   "cell_type": "code",
   "execution_count": null,
   "metadata": {},
   "outputs": [],
   "source": [
    "from data_processing.data_parsers import me_time_parser\n",
    "\n",
    "data: dict[int, DataFrame] = me_time_parser(METIME_PATH)\n",
    "\n",
    "data"
   ]
  },
  {
   "cell_type": "code",
   "execution_count": null,
   "metadata": {},
   "outputs": [],
   "source": [
    "from datetime import datetime\n",
    "for k in data.keys():    \n",
    "    data[k].fillna(0, inplace = True)\n",
    "    data[k] = data[k].astype({\"hr\": \"float\", \"steps\": \"float\"})\n",
    "    data[k][\"hr\"] = (data[k][\"hr\"] - data[k][\"hr\"].mean()) / data[k][\"hr\"].std()\n",
    "    data[k][\"steps\"] = (data[k][\"steps\"] - data[k][\"steps\"].mean()) / data[k][\"steps\"].std()\n"
   ]
  },
  {
   "cell_type": "code",
   "execution_count": null,
   "metadata": {},
   "outputs": [],
   "source": [
    "\n",
    "\n",
    "train = DataFrame()\n",
    "eval = DataFrame()\n",
    "test = DataFrame()\n",
    "for k, d in data.items():\n",
    "    heartRateProcessor: HeartRateDataProcessor = HeartRateDataProcessor(d)\n",
    "    heartRateProcessor.process().add_resting_hr()\n",
    "\n",
    "    stepProcessor: StepProcessor = StepProcessor(d)\n",
    "    stepProcessor.process()\n",
    "    \n",
    "    features = heartRateProcessor.processed.join(stepProcessor.processed)\n",
    "    features.reset_index(inplace = True)\n",
    "\n",
    "    features.to_csv(METIME_PATH + \"\\\\features\\\\\" + str(k) + \".csv\", index = False)\n",
    "    print(\"done \" + str(k))\n",
    "    "
   ]
  },
  {
   "cell_type": "code",
   "execution_count": null,
   "metadata": {},
   "outputs": [],
   "source": [
    "# from sklearn.neighbors import KNeighborsClassifier\n",
    "# from sklearn.model_selection import train_test_split\n",
    "from sklearn.cluster import DBSCAN"
   ]
  },
  {
   "cell_type": "code",
   "execution_count": null,
   "metadata": {},
   "outputs": [],
   "source": [
    "aux = pd.read_csv(METIME_PATH + \"\\\\features\\\\\" + str(1) + \".csv\")\n",
    "aux.fillna(0, inplace = True)\n",
    "dbscan = DBSCAN(eps=6, min_samples=10).fit(aux.loc[:, aux.columns != 'window'])\n",
    "\n",
    "labels = dbscan.labels_\n",
    "\n",
    "print(labels)\n",
    "\n",
    "# data[99][\"hour\"] = data[99][\"time\"].dt.hour\n",
    "# data[99][\"active\"] = (data[99][\"steps\"] != 0)\n",
    "\n",
    "# a = data[99].groupby(\"active\")[\"hr\"].mean()\n",
    "# print(a)\n",
    "# a.plot()\n",
    "# plt.plot(a[\"hour\"], a[\"hr\"])\n",
    "# plt.xlabel(\"time\")\n",
    "# plt.ylabel(\"HR\")"
   ]
  },
  {
   "cell_type": "code",
   "execution_count": null,
   "metadata": {},
   "outputs": [],
   "source": [
    "for k in data.keys():\n",
    "    # a = data[k][\"time\"].astype(str)\n",
    "    df = data[k][(data[k]['time'].dt.month == 6) & \n",
    "        (data[k]['time'].dt.year == 2021) & (data[k]['time'].dt.day == 1)]\n",
    "    l = df['time'].values\n",
    "    print(l)\n",
    "    # print(l.astype(\"datetime64[Y]\").astype(int) + 1970)\n",
    "    a = (np.diff(l) / 1000000000).astype(int)\n",
    "    # a = a[a != 5]\n",
    "    print(a[a > 5].size)\n",
    "\n",
    "\n",
    "\n",
    "    # plt.plot(df[\"time\"].values, df[\"hr\"].values)\n",
    "    # plt.xlabel(\"time\")\n",
    "    # plt.ylabel(\"HR\")\n",
    "    # plt.show()\n",
    "    # # print(df[df[\"steps\"] == df[\"steps\"].max()])\n",
    "    # # print(df[df['time'].dt.second == 0][df['steps'] != 0])\n",
    "    # print(df)\n",
    "    # print(df)\n",
    "    \n",
    "    break\n",
    "\n",
    "    ts = pd.to_datetime(str(data[k][\"time\"][0]))\n",
    "    ts = ts.to_pydatetime()\n",
    "    print(ts)\n",
    "    print(type(ts))\n",
    "    break"
   ]
  },
  {
   "cell_type": "code",
   "execution_count": null,
   "metadata": {},
   "outputs": [],
   "source": [
    "ts = pd.to_datetime(str(data[1][\"time\"][0]))\n",
    "print(ts)\n",
    "ts = ts.to_pydatetime()\n",
    "print(ts)\n",
    "print(type(ts))"
   ]
  },
  {
   "cell_type": "code",
   "execution_count": null,
   "metadata": {},
   "outputs": [],
   "source": []
  }
 ],
 "metadata": {
  "kernelspec": {
   "display_name": "rp",
   "language": "python",
   "name": "python3"
  },
  "language_info": {
   "codemirror_mode": {
    "name": "ipython",
    "version": 3
   },
   "file_extension": ".py",
   "mimetype": "text/x-python",
   "name": "python",
   "nbconvert_exporter": "python",
   "pygments_lexer": "ipython3",
   "version": "3.11.3"
  },
  "orig_nbformat": 4
 },
 "nbformat": 4,
 "nbformat_minor": 2
}
